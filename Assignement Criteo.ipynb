{
 "cells": [
  {
   "cell_type": "markdown",
   "id": "1fb1eff1",
   "metadata": {},
   "source": [
    "# Title: Code for criteo assignment  \n",
    "## Author: Pierre Mulliez\n",
    "### Started on: 24-08-2022"
   ]
  },
  {
   "cell_type": "code",
   "execution_count": null,
   "id": "3f19b72b",
   "metadata": {},
   "outputs": [],
   "source": [
    "#Load dataset and import packages \n",
    "import pandas as pd \n",
    "import matplotlib.pyplot as plt\n",
    "import seaborn as sns\n",
    "df = pd.read_csv('data.csv')"
   ]
  },
  {
   "cell_type": "code",
   "execution_count": null,
   "id": "7e6cd8af",
   "metadata": {},
   "outputs": [],
   "source": [
    "#First glance\n",
    "print('printing head: ')\n",
    "print(df.head(5))\n",
    "print('printing quant description: ')\n",
    "print(df.describe())"
   ]
  },
  {
   "cell_type": "code",
   "execution_count": null,
   "id": "8adec53e",
   "metadata": {},
   "outputs": [],
   "source": [
    "plt.figure(figsize=(15,10))\n",
    "plt.plot(df.index,df.iloc[:,2:])\n",
    "plt.legend(df.iloc[:,2:].columns)\n",
    "plt.xlabel('Date', fontsize = 15)\n",
    "x = [1,30,60,90,120,150,180]\n",
    "label = ['01-01-2018','16-01-2018','01-02-2018','16-02-2018','01-03-2018','16-03-2018','31-03-2018']\n",
    "plt.xticks(x, label,rotation = 45)\n",
    "plt.ylabel('Units in Millions', fontsize = 15)\n",
    "plt.show()"
   ]
  },
  {
   "cell_type": "code",
   "execution_count": null,
   "id": "37888a95",
   "metadata": {},
   "outputs": [],
   "source": [
    "plt.figure(figsize=(15,10))\n",
    "plt.plot(df.index,df.loc[:,['paid_impressions','organic_page_views','organic_sales_revenue']])\n",
    "plt.legend(['paid_impressions','organic_page_views','organic_sales_revenue'])\n",
    "plt.xlabel('Date', fontsize = 15)\n",
    "x = [1,30,60,90,120,150,180]\n",
    "label = ['01-01-2018','16-01-2018','01-02-2018','16-02-2018','01-03-2018','16-03-2018','31-03-2018']\n",
    "plt.xticks(x, label,rotation = 45)\n",
    "plt.ylabel('Units in Millions', fontsize = 15)\n",
    "plt.show()\n",
    "\n",
    "plt.figure(figsize=(15,10))\n",
    "plt.plot(df.index,df.loc[:,['paid_clicks','organic_sales_units','organic_transactions','paid_ad_revenue']])\n",
    "plt.legend(['paid_clicks','organic_sales_units','organic_transactions','paid_ad_revenue'])\n",
    "plt.xlabel('Date', fontsize = 15)\n",
    "x = [1,30,60,90,120,150,180]\n",
    "label = ['01-01-2018','16-01-2018','01-02-2018','16-02-2018','01-03-2018','16-03-2018','31-03-2018']\n",
    "plt.xticks(x, label,rotation = 45)\n",
    "plt.ylabel('Units in 10000', fontsize = 15)\n",
    "plt.show()"
   ]
  },
  {
   "cell_type": "code",
   "execution_count": null,
   "id": "62d95afa",
   "metadata": {},
   "outputs": [],
   "source": [
    "# find seasonality # organic sales view vs paid impression\n",
    "from statsmodels.graphics.tsaplots import plot_pacf\n",
    "from statsmodels.tsa.seasonal import seasonal_decompose\n",
    "plot_pacf(df['organic_sales_revenue'], lags=50, method=\"ywm\")\n",
    "plt.show()\n",
    "dfdecompose = df.groupby('date').sum('organic_sales_revenue')[['organic_sales_revenue','paid_impressions']]\n",
    "dfdecompose.index = range(0,90)\n",
    "seasonal_decompose(dfdecompose['organic_sales_revenue'], model='additive',period = 7).plot()"
   ]
  },
  {
   "cell_type": "code",
   "execution_count": null,
   "id": "c88f171c",
   "metadata": {},
   "outputs": [],
   "source": [
    "seasonal_decompose(dfdecompose['paid_impressions'], model='additive',period = 7).plot()"
   ]
  },
  {
   "cell_type": "code",
   "execution_count": null,
   "id": "8af6f1cb",
   "metadata": {},
   "outputs": [],
   "source": [
    "corr_matrix = df.iloc[:,2:].corr()\n",
    "corr_matrix.style.background_gradient(cmap='RdBu_r')"
   ]
  },
  {
   "cell_type": "code",
   "execution_count": null,
   "id": "2080f905",
   "metadata": {},
   "outputs": [],
   "source": [
    "# focus on retailer B\n",
    "dfB = df.loc[df['retailer'] == 'B',:].drop(['retailer'], axis=1).set_index('date')\n",
    "corr_matrix = dfB.corr()\n",
    "corr_matrix.style.background_gradient(cmap='RdBu_r')"
   ]
  },
  {
   "cell_type": "code",
   "execution_count": null,
   "id": "09a17a3f",
   "metadata": {},
   "outputs": [],
   "source": [
    "# focus on retailer A\n",
    "dfA = df.loc[df['retailer'] == 'A',:].drop(['retailer'], axis=1).set_index('date')\n",
    "corr_matrix = dfA.corr()\n",
    "corr_matrix.style.background_gradient(cmap='RdBu_r')"
   ]
  },
  {
   "cell_type": "code",
   "execution_count": null,
   "id": "a12b8115",
   "metadata": {},
   "outputs": [],
   "source": [
    "from statsmodels.tsa.statespace.sarimax import SARIMAX\n",
    "import numpy as np\n",
    "from sklearn.metrics import mean_squared_error\n",
    "# Retailer A \n",
    "train = dfA.loc[:'25/03/2018',['organic_sales_revenue', 'paid_clicks']]\n",
    "test = dfA.loc['25/03/2018':,['organic_sales_revenue', 'paid_clicks']]\n",
    "model= SARIMAX(train['organic_sales_revenue'], \n",
    "     order=(1,1,1), seasonal_order= (1,1,1,7),\n",
    "    enforce_invertibility=True, enforce_stationarity=True)\n",
    "results=model.fit()\n",
    "forecast = results.forecast(steps=7)\n",
    "rmse = np.sqrt(mean_squared_error(forecast, test['organic_sales_revenue']))"
   ]
  },
  {
   "cell_type": "code",
   "execution_count": null,
   "id": "3fad3894",
   "metadata": {},
   "outputs": [],
   "source": [
    "dfA.tail()\n",
    "dfB.tail()\n",
    "print(rmse)\n",
    "print(forecast)\n",
    "test"
   ]
  },
  {
   "cell_type": "code",
   "execution_count": null,
   "id": "d4202ca9",
   "metadata": {},
   "outputs": [],
   "source": [
    "plot = dfA.loc['01/03/2018':,'organic_sales_revenue']\n",
    "plt.figure(figsize=(15,10))\n",
    "plt.plot(plot.index, plot, 'o-g')\n",
    "plt.plot(plot.index[-7:], forecast, 'o-b')\n",
    "plt.xlabel(\"Days March\")\n",
    "plt.ylabel(\"revenue in millions\")\n",
    "plt.xticks(rotation = 80, fontsize = 8)\n",
    "plt.title(\"revenue over time without paid clicks added\")\n",
    "plt.legend(['Real revenue', 'Forecasted revenue'])\n",
    "plt.show()"
   ]
  },
  {
   "cell_type": "code",
   "execution_count": null,
   "id": "2c00d2fc",
   "metadata": {},
   "outputs": [],
   "source": [
    "from statsmodels.tsa.statespace.sarimax import SARIMAX\n",
    "import numpy as np\n",
    "from sklearn.metrics import mean_squared_error\n",
    "# Retailer A \n",
    "\n",
    "model= SARIMAX(train['organic_sales_revenue'], exog=train['paid_clicks'],\n",
    "     order=(1,2,1), seasonal_order= (1,0,1,7),\n",
    "    enforce_invertibility=True, enforce_stationarity=True)\n",
    "results=model.fit()\n",
    "forecast = results.forecast(steps=7, exog = test['paid_clicks'])\n",
    "rmse = np.sqrt(mean_squared_error(forecast, test['organic_sales_revenue']))\n"
   ]
  },
  {
   "cell_type": "code",
   "execution_count": null,
   "id": "300e5030",
   "metadata": {},
   "outputs": [],
   "source": [
    "print(rmse)"
   ]
  },
  {
   "cell_type": "code",
   "execution_count": null,
   "id": "3cb6471f",
   "metadata": {},
   "outputs": [],
   "source": [
    "plot = dfA.loc['01/03/2018':,'organic_sales_revenue']\n",
    "plt.figure(figsize=(15,10))\n",
    "plt.plot(plot.index, plot, 'o-g')\n",
    "plt.plot(plot.index[-7:], forecast, 'o-b')\n",
    "plt.xlabel(\"Days March\")\n",
    "plt.ylabel(\"revenue in millions\")\n",
    "plt.xticks(rotation = 80, fontsize = 8)\n",
    "plt.title(\"revenue over time WITH paid clicks added\")\n",
    "plt.legend(['Real revenue', 'Forecasted revenue'])\n",
    "plt.show()"
   ]
  },
  {
   "cell_type": "code",
   "execution_count": null,
   "id": "fed3832a",
   "metadata": {},
   "outputs": [],
   "source": [
    "# Retailer B \n",
    "from statsmodels.tsa.statespace.sarimax import SARIMAX\n",
    "import numpy as np\n",
    "from sklearn.metrics import mean_squared_error\n",
    "\n",
    "train = dfB.loc[:'25/03/2018',['organic_sales_revenue', 'paid_clicks']]\n",
    "test = dfB.loc['25/03/2018':,['organic_sales_revenue', 'paid_clicks']]\n",
    "\n",
    "model= SARIMAX(train['organic_sales_revenue'], exog=train['paid_clicks'],\n",
    "     order=(1,2,1), seasonal_order= (1,0,1,7),\n",
    "    enforce_invertibility=True, enforce_stationarity=True)\n",
    "results=model.fit()\n",
    "forecast = results.forecast(steps=7, exog = test['paid_clicks'])\n",
    "rmse = np.sqrt(mean_squared_error(forecast, test['organic_sales_revenue']))"
   ]
  },
  {
   "cell_type": "code",
   "execution_count": null,
   "id": "2b949aef",
   "metadata": {},
   "outputs": [],
   "source": [
    "rmse"
   ]
  },
  {
   "cell_type": "code",
   "execution_count": null,
   "id": "4b2fedce",
   "metadata": {},
   "outputs": [],
   "source": [
    "plot = dfB.loc['01/03/2018':,'organic_sales_revenue']\n",
    "plt.figure(figsize=(15,10))\n",
    "plt.plot(plot.index, plot, 'o-g')\n",
    "plt.plot(plot.index[-7:], forecast, 'o-b')\n",
    "# set axis titles\n",
    "plt.xlabel(\"Days March\")\n",
    "plt.ylabel(\"revenue in millions\")\n",
    "plt.xticks(rotation = 80, fontsize = 8)\n",
    "plt.title(\"revenue over time WITH paid clicks added\")\n",
    "plt.legend(['Real revenue', 'Forecasted revenue'])\n",
    "plt.show()"
   ]
  },
  {
   "cell_type": "code",
   "execution_count": null,
   "id": "67672bb0",
   "metadata": {},
   "outputs": [],
   "source": [
    "# check for inconsistency in paid cliks and revenue \n",
    "## might reveal bugs \n",
    "df['prcClicksRev'] = df['organic_sales_revenue'] / df['paid_clicks'] *100\n",
    "check = df[['date','retailer','organic_sales_revenue','paid_clicks','prcClicksRev']]\\\n",
    ".sort_values('organic_sales_revenue', axis = 0,ascending = False).head(40)\n",
    "check.style.background_gradient(cmap='RdBu_r')\n"
   ]
  },
  {
   "cell_type": "code",
   "execution_count": null,
   "id": "da11fb38",
   "metadata": {},
   "outputs": [],
   "source": [
    "check = df[['date','retailer','organic_sales_revenue','paid_clicks','prcClicksRev']]\\\n",
    ".sort_values('prcClicksRev', axis = 0,ascending = False).head(40)\n",
    "check.style.background_gradient(cmap='RdBu_r')"
   ]
  },
  {
   "cell_type": "code",
   "execution_count": null,
   "id": "73aa9157",
   "metadata": {},
   "outputs": [],
   "source": [
    "print(df.groupby('retailer').mean('prcClicksRev')['prcClicksRev'])\n",
    "def group_range(x):\n",
    "    return x.max() - x.min()\n",
    "df_diff =df.groupby('date')['prcClicksRev'].apply(group_range).sort_values(axis = 0,ascending = False).head(20)\n",
    "pd.DataFrame(df_diff).style.background_gradient(cmap='RdBu_r')"
   ]
  },
  {
   "cell_type": "code",
   "execution_count": null,
   "id": "dc4a2398",
   "metadata": {},
   "outputs": [],
   "source": [
    "# CHECK revenue vs impression number \n",
    "df['ADrevperImpression'] = df['paid_ad_revenue'] / df['paid_impressions'] *100\n",
    "check = df[['date','retailer','paid_ad_revenue','paid_impressions','ADrevperImpression']]\\\n",
    ".sort_values('paid_ad_revenue', axis = 0,ascending = False)\n",
    "check.head(40).style.background_gradient(cmap='RdBu_r')\n",
    "\n"
   ]
  },
  {
   "cell_type": "code",
   "execution_count": null,
   "id": "cdb0537c",
   "metadata": {},
   "outputs": [],
   "source": [
    "checkscatter = check['retailer'].replace('A', 'green')\n",
    "checkscatter = checkscatter.replace('B', 'blue')\n",
    "plt.figure(figsize=(15,8))\n",
    "plt.scatter(check.index,check['ADrevperImpression'],marker=\"o\",c = checkscatter)\n",
    "x = [1,30,60,90,120,150,180]\n",
    "label = ['01-01-2018','16-01-2018','01-02-2018','16-02-2018','01-03-2018','16-03-2018','31-03-2018']\n",
    "plt.xticks(x, label,rotation = 45)\n",
    "plt.title('Revenue per impression over time', fontsize = 15)\n",
    "plt.ylabel('Revenue per impression', fontsize = 12)\n",
    "plt.xlabel('Date', fontsize = 12)\n",
    "plt.plot()\n"
   ]
  }
 ],
 "metadata": {
  "jupytext": {
   "formats": "ipynb,md"
  },
  "kernelspec": {
   "display_name": "Python 3 (ipykernel)",
   "language": "python",
   "name": "python3"
  },
  "language_info": {
   "codemirror_mode": {
    "name": "ipython",
    "version": 3
   },
   "file_extension": ".py",
   "mimetype": "text/x-python",
   "name": "python",
   "nbconvert_exporter": "python",
   "pygments_lexer": "ipython3",
   "version": "3.7.6"
  }
 },
 "nbformat": 4,
 "nbformat_minor": 5
}
